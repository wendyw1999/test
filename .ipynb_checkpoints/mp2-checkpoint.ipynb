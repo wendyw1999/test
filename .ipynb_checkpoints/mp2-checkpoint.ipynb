{
 "cells": [
  {
   "cell_type": "markdown",
   "metadata": {},
   "source": [
    "--------------------------------------------------------------------------------------\n",
    "\n",
    "* Team member names:\n",
    "* Team member IDs:\n",
    "\n",
    "--------------------------------------------------------------------------------------"
   ]
  },
  {
   "cell_type": "markdown",
   "metadata": {
    "deletable": false,
    "editable": false,
    "nbgrader": {
     "cell_type": "markdown",
     "checksum": "264493a080ac9db185ea84c9bb2a75c1",
     "grade": false,
     "grade_id": "cell-d86d24ce0566dae5",
     "locked": true,
     "schema_version": 3,
     "solution": false
    }
   },
   "source": [
    "\n",
    "# Mini-project 2, DSC 170, Spring 2019\n",
    "## Advanced Geopandas: spatial join and geoprocessing\n"
   ]
  },
  {
   "cell_type": "markdown",
   "metadata": {
    "deletable": false,
    "editable": false,
    "nbgrader": {
     "cell_type": "markdown",
     "checksum": "c56093b494c8c01b856dae59ef073623",
     "grade": false,
     "grade_id": "cell-b417a32d7511bd15",
     "locked": true,
     "schema_version": 3,
     "solution": false
    }
   },
   "source": [
    "In this mini-project, you will explore several common geospatial computations. The goal is to practice with different types of requests against a single layer, and then work on joining several data layers using real data. The goal is to demonstrate your geopandas mastery, and also to show that you can discover datasets and critically evaluate metadata. \n",
    "\n",
    "For each dataset that you found and used, explore its metadata and provide a brief description (about 3 sentences): indicate its title, URL, number of records, coordinate reference system, the manner in which it was compiled (as far as you can tell from the metadata), and any data quality considerations, especially those that may influence geometric processing. \n",
    "\n",
    "There will be one relatively simple warm-up problem, and one larger and very real problem that the City of San Diego is struggling with. The best creative solutions to the second one will be demonstrated when Scale-SD folks come here to give an invited talk.\n",
    "\n",
    "Note that the upload file size limit has been removed from the datahub, so you should be able to upload your data.\n",
    "\n"
   ]
  },
  {
   "cell_type": "code",
   "execution_count": 1,
   "metadata": {},
   "outputs": [
    {
     "name": "stderr",
     "output_type": "stream",
     "text": [
      "/home/caw062/.local/lib/python3.7/site-packages/geopandas/_compat.py:87: UserWarning: The Shapely GEOS version (3.8.0-CAPI-1.13.1 ) is incompatible with the GEOS version PyGEOS was compiled with (3.8.1-CAPI-1.13.3). Conversions between both will be slow.\n",
      "  shapely_geos_version, geos_capi_version_string\n"
     ]
    }
   ],
   "source": [
    "%matplotlib inline \n",
    "import geopandas as gpd\n",
    "import pandas as pd\n",
    "\n",
    "# add packages as needed"
   ]
  },
  {
   "cell_type": "markdown",
   "metadata": {
    "deletable": false,
    "editable": false,
    "nbgrader": {
     "cell_type": "markdown",
     "checksum": "cda8214ff4022f87295301f5bce77ecc",
     "grade": false,
     "grade_id": "cell-92ed40c9d90c5e14",
     "locked": true,
     "schema_version": 3,
     "solution": false
    }
   },
   "source": [
    "--------------------------------------------------------------------------------------\n",
    "__Problem 1__. \n",
    "\n",
    "In an administrative boundaries map of California (find it as a GeoJSON or a shapefile on one of the web sites), find a county named San Diego and return its CRS, polygon coordinates, area (in sq miles), bounding box (in latitude and longitude), and a list of neighboring counties. \n",
    "\n",
    "Generally speaking, this will be a function to return geometric characteristics and neighbors of any polygon in an input dataframe (input_gdf) with a given name (poly_name) in a specific column (poly_name_field). Most lilely, in the database you find there will be a unique \"San Diego\" record - but it won't harm to do dissolve, just in case.\n",
    "\n",
    "```python\n",
    "def poly_geometry(input_gdf, poly_name_field, poly_name):\n",
    "\n",
    "# YOUR CODE HERE\n",
    "\n",
    "    return crs, poly_coords, area, bounding_box, neighbors\n",
    "```\n",
    "\n"
   ]
  },
  {
   "cell_type": "markdown",
   "metadata": {
    "deletable": false,
    "editable": false,
    "nbgrader": {
     "cell_type": "markdown",
     "checksum": "a203b19be6f60fac512fa753647e3b27",
     "grade": false,
     "grade_id": "cell-8bba904267e1437c",
     "locked": true,
     "schema_version": 3,
     "solution": false
    }
   },
   "source": [
    "### Solution for problem 1: code and dataset description:"
   ]
  },
  {
   "cell_type": "code",
   "execution_count": null,
   "metadata": {
    "deletable": false,
    "nbgrader": {
     "cell_type": "code",
     "checksum": "3e70f3efc3a4ed73f614d6cd5b47623a",
     "grade": true,
     "grade_id": "cell-584129cf0e3a4f9f",
     "locked": false,
     "points": 10,
     "schema_version": 3,
     "solution": true,
     "task": false
    }
   },
   "outputs": [],
   "source": [
    "# YOUR CODE HERE\n",
    "raise NotImplementedError()"
   ]
  },
  {
   "cell_type": "markdown",
   "metadata": {},
   "source": [
    "__Problem 1 dataset description:__\n",
    "\n",
    " Your text here"
   ]
  },
  {
   "cell_type": "code",
   "execution_count": null,
   "metadata": {},
   "outputs": [],
   "source": [
    "# running the function\n",
    "\n",
    "input_gdf = gpd.read_file('  your file here  ')\n",
    "poly_name_field = 'Counties'  # or whatever is in the file\n",
    "poly_name = 'San Diego' # or whatever is in the file\n",
    "\n",
    "crs,poly_coords,area,bbox,neighbors = poly_geometry(input_gdf, poly_name_field, poly_name)\n",
    "\n",
    "print(crs)\n",
    "print(poly_coords)\n",
    "print(area)\n",
    "print(bbox)\n",
    "print(neighbors)\n"
   ]
  },
  {
   "cell_type": "markdown",
   "metadata": {
    "deletable": false,
    "editable": false,
    "nbgrader": {
     "cell_type": "markdown",
     "checksum": "90d195bf23045a3cf7cf4be1c38b840a",
     "grade": false,
     "grade_id": "cell-989829f5228c3563",
     "locked": true,
     "schema_version": 3,
     "solution": false
    }
   },
   "source": [
    "--------------------------------------------------------------------------------------\n",
    "\n",
    "__Problem 2.__\n",
    "\n",
    "Food choices in low and medium income (LMI) neighborhoods are limited, as these areas lack healthy food stores or other fresh food delivery mechanisms. There may be more fast food stores than fresh produce shops. Population is relatively poor, and filling the food basket with healthy options hasn't been an overwhelming priority for many households. Such areas are referred to as \"food deserts\". \n",
    "\n",
    "See these articles:\n",
    "* https://www.sandiegouniontribune.com/news/data-watch/sdut-san-diego-food-deserts-2016may15-htmlstory.html (see food desert definitions here)\n",
    "* https://www.npr.org/sections/thesalt/2013/03/13/174112591/how-to-find-a-food-desert-near-you\n",
    "* https://www.geospatial.institute/wp-content/uploads/2018/03/Mapping-Food-Desserts-in-Southern-California-Counties.pdf \n",
    "* https://www.sandiegoreader.com/news/2018/sep/04/stringers-imperial-beach-food-desert/# (a recent one, about IB)\n",
    "* https://www.kpbs.org/news/2018/mar/29/sdsu-students-take-food-deserts-national-city/\n",
    "* http://newscenter.sdsu.edu/sdsu_newscenter/news_story.aspx?sid=74890 \n",
    "* https://grist.org/food/americas-worst-food-deserts-map-lovers-edition/\n",
    "* https://ucsdcommunityhealth.org/news/promoting-produce-consumption/\n",
    "\n",
    "There was also a Master's thesis at UCSD: https://escholarship.org/uc/item/0s78j9g2\n",
    "\n",
    "Don't read them all, just skim to understand the issues and get ideas.\n",
    "\n",
    "We'll analyze the current state of food deserts, using lists of businesses that operate in San Diego, and social-demographic data from SanDAG (by census tracts). \n",
    "\n",
    "For the list of businesses, let's use City of San Diego tax certificates:\n",
    "https://data.sandiego.gov/datasets/business-listings/. These data are current, and include lat/lon. They also include detailed NAICS codes for each business. This is the recommended dataset. We are interested in active certificates. We are also interested in types of businesses that are relevant to healthy (and unhealthy) food options. Healthy food options would include FOOD (HEALTH) SUPPLEMENT STORES, GROCERY STORES and GROCERY (EXCEPT CONVENIENCE) STORES. Unhealthy food options would include FOOD SERVICES & DRINKING PLACES, FULL-SERVICE RESTAURANTS, LIMITED-SERVICE EATING PLACES, LIMITED-SERVICE RESTAURANTS (a.k.a fast food places), BEER, WINE & LIQUOR STORES, TOBACCO STORES, CONVENIENCE STORES (a mixed bag...). We have provided this as part of the assignment. You don't need to download it, but you may if you wish.\n",
    "\n",
    "\n",
    "There is also \"SanDAG's point locations of business sites\" in San Diego County (see metadata at http://rdw.sandag.org/Account/GetFSFile.aspx?dir=Business&Name=BUSINESS_SITES.pdf). This is already a shapefile, so this is a plus (but note  disclaimers in the metadata). The date is 8/17/2017, i.e. not as current. Industry codes are not as detailed as NAICS in the City's dataset. \n",
    "\n",
    "We'll also get relevant spatial data layers from SanDAG: Promise Zone, and census tract boundaries. Note that you'll need to create a free account to access Sandag GIS data warehouse.\n",
    "\n",
    "Descriptions of promise zones can be found at these links:\n",
    "* https://www.hud.gov/sites/documents/SAN-DIEGO_ZONE_3RD.PDF\n",
    "* https://www.sandiego.gov/economic-development/sdpromisezone/maps\n",
    "* https://www.sandiego.gov/economic-development/sdpromisezone\n",
    "\n",
    "To download the shapefiles, visit the SanDAG's \"Maps and GIS\" section:\n",
    "* Promise Zone is under Business. Metadata at http://rdw.sandag.org/Account/GetFSFile.aspx?dir=Business&Name=Promise_Zone_SD.pdf. Alternatively, you can use https://data.sandiego.gov/datasets/promise-zone/\n",
    "* Census tracts are under Census. Metadata at http://rdw.sandag.org/Account/GetFSFile.aspx?dir=Census&Name=CENSUS_TRACTS_2010.pdf. \n",
    "\n",
    "Social-demographic data by census tracts can be downloaded from SanDAG at https://sandag.org/index.asp?classid=26&fuseaction=home.classhome. You can try to find the data yourself - but  we also include an xlsx file with some income statistics by census tracts. \n",
    "\n",
    "San Diego County municipal boundaries (metadata at http://rdw.sandag.org/Account/GetFSFile.aspx?dir=Jurisdiction&Name=Municipal_Boundaries.pdf) can be downloaded from the same GIS Data Warehouse, under the \"Jurisdiction\" section. Alternatively, use https://data.sandiego.gov/datasets/san-diego-boundary/ (we only need the boundary of San Diego city, so the latter is quite sufficient.)\n",
    "\n",
    "Your tasks:\n",
    "\n",
    "1. Download the data - promise zone, census tracts, jurisdictions (census tracts social-demographic data and businesses data are provided but you can download as well if you wish), read them into geopandas dataframes, and merge social-demographic data with tract boundaries as needed.\n",
    "\n",
    "2. Subset the businesses (figure out, from NAICS descriptions, which businesses are likely to provide healthy food options, and which unhealthy. You can use our suggestions above but also feel free to deviate from them as long as you justify your choices.)\n",
    "\n",
    "3. Determine census tracts intersecting with the promise zone, and all other census tracts within the boundary of San Diego.\n",
    "\n",
    "4. For each census tract marked as belonging to the promise zone, and the other tracts within the city limits, calculate the number of healthy and not-healthy options within that tract. \n",
    "\n",
    "5. Compute the ratio of healthy and non-healthy options, and build a regression model showing how it depends on social-demographic characteristics, such as median income or number of people in lowest and highest income brackets. You may use sklearn on this dataframe by tracts to compute a linear regresson (as you did in DSC80. As a refresher, you may also check out https://towardsdatascience.com/simple-and-multiple-linear-regression-in-python-c928425168f9, https://towardsdatascience.com/linear-regression-in-python-9a1f5f000606, https://stackoverflow.com/questions/29934083/linear-regression-on-pandas-dataframe-using-sci-kit-learn/29937049). Provide a brief description of regression results.\n",
    "\n",
    "6. Generate a map showing the ratio of healthy and not healthy food options, and the locations of stores offering healthy food options. \n",
    "\n",
    "7. Extra Credit: Think of additional variables that you could bring into this analysis, and try to include them in the regression. ScaleSD is running a hackathon on this topic, and they have a good collection of data sources: https://www.scalesd.com/hackathon-2019/food-insecurity.html. \n",
    "\n",
    "\n",
    "We won't provide a skeleton for this problem. This is a much more open project than before. \n"
   ]
  },
  {
   "cell_type": "markdown",
   "metadata": {
    "deletable": false,
    "editable": false,
    "nbgrader": {
     "cell_type": "markdown",
     "checksum": "93c980b1849243ac8d454096f51c4085",
     "grade": false,
     "grade_id": "cell-725cbfebdf561960",
     "locked": true,
     "schema_version": 3,
     "solution": false
    }
   },
   "source": [
    "### Solution for problem 2: code, dataset descriptions, discussion of regression results:"
   ]
  },
  {
   "cell_type": "markdown",
   "metadata": {},
   "source": [
    "__Problem 2 dataset descriptions:__\n",
    "\n",
    " Your text here"
   ]
  },
  {
   "cell_type": "code",
   "execution_count": null,
   "metadata": {
    "deletable": false,
    "nbgrader": {
     "cell_type": "code",
     "checksum": "5750ad7fd1b38ef0c57dab1cdeb307bb",
     "grade": true,
     "grade_id": "cell-be2411ece29e47fd",
     "locked": false,
     "points": 20,
     "schema_version": 3,
     "solution": true
    }
   },
   "outputs": [],
   "source": [
    "# YOUR CODE HERE\n",
    "raise NotImplementedError()"
   ]
  },
  {
   "cell_type": "markdown",
   "metadata": {},
   "source": [
    "__Problem 2 discussion of linear regression results:__\n",
    "\n",
    " Your text here"
   ]
  },
  {
   "cell_type": "markdown",
   "metadata": {
    "deletable": false,
    "editable": false,
    "nbgrader": {
     "cell_type": "markdown",
     "checksum": "9fd2a81670c54e6aea1ca721e4591ed4",
     "grade": false,
     "grade_id": "cell-9f6b3e3799bc03d3",
     "locked": true,
     "schema_version": 3,
     "solution": false
    }
   },
   "source": [
    "## Responses to the extra credit questions:\n",
    "\n",
    "Your text here"
   ]
  },
  {
   "cell_type": "code",
   "execution_count": null,
   "metadata": {
    "deletable": false,
    "nbgrader": {
     "cell_type": "code",
     "checksum": "ff34bb83484d40aeb2931bad7755a591",
     "grade": true,
     "grade_id": "cell-07f1935881fff57e",
     "locked": false,
     "points": 5,
     "schema_version": 3,
     "solution": true
    }
   },
   "outputs": [],
   "source": [
    "# YOUR CODE HERE\n",
    "raise NotImplementedError()"
   ]
  },
  {
   "cell_type": "code",
   "execution_count": null,
   "metadata": {},
   "outputs": [],
   "source": [
    "# Please let us know how much time you spent on this project, in hours: \n",
    "# (we will only examine distributions and won't look at individual responses)\n",
    "assignment_timespent = \n",
    "extracredit_timespent = "
   ]
  }
 ],
 "metadata": {
  "kernelspec": {
   "display_name": "Python 3",
   "language": "python",
   "name": "python3"
  },
  "language_info": {
   "codemirror_mode": {
    "name": "ipython",
    "version": 3
   },
   "file_extension": ".py",
   "mimetype": "text/x-python",
   "name": "python",
   "nbconvert_exporter": "python",
   "pygments_lexer": "ipython3",
   "version": "3.7.6"
  }
 },
 "nbformat": 4,
 "nbformat_minor": 2
}
